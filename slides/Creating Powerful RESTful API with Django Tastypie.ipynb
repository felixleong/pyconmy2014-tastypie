{
 "metadata": {
  "name": ""
 },
 "nbformat": 3,
 "nbformat_minor": 0,
 "worksheets": [
  {
   "cells": [
    {
     "cell_type": "markdown",
     "metadata": {},
     "source": [
      "# Setting Up The Environment\n",
      "\n",
      "Before we start, we need to import our `requests` library first. Also we need to make sure that our Django server is run from the background"
     ]
    },
    {
     "cell_type": "code",
     "collapsed": false,
     "input": [
      "import requests\n",
      "import json\n",
      "from pynb_support.api import ApiKeyAuth"
     ],
     "language": "python",
     "metadata": {},
     "outputs": [],
     "prompt_number": 13
    },
    {
     "cell_type": "code",
     "collapsed": false,
     "input": [
      "# Retrieving the schema, making sure that our API server is up and running\n",
      "requests.get('http://localhost:8000/api/v1/').json()"
     ],
     "language": "python",
     "metadata": {},
     "outputs": []
    },
    {
     "cell_type": "markdown",
     "metadata": {},
     "source": [
      "# Basic Django-Tastypie Demo\n",
      "\n",
      "The following code demonstrates the basic functionality of Django Tastypie"
     ]
    },
    {
     "cell_type": "code",
     "collapsed": false,
     "input": [
      "# Retrieving all articles\n",
      "requests.get('http://localhost:8000/api/v1/article/').json()"
     ],
     "language": "python",
     "metadata": {},
     "outputs": [
      {
       "metadata": {},
       "output_type": "pyout",
       "prompt_number": 7,
       "text": [
        "{'meta': {'limit': 20,\n",
        "  'next': None,\n",
        "  'offset': 0,\n",
        "  'previous': None,\n",
        "  'total_count': 2},\n",
        " 'objects': [{'author': {'first_name': 'Seh Hui',\n",
        "    'id': 2,\n",
        "    'last_name': 'Leong'},\n",
        "   'body': 'Some body text to act as search material.',\n",
        "   'id': 2,\n",
        "   'is_private': False,\n",
        "   'resource_uri': '/api/v1/article/welcome-mini-pycon-malaysia-2014/',\n",
        "   'slug': 'welcome-mini-pycon-malaysia-2014',\n",
        "   'summary': '',\n",
        "   'tags': ['/api/v1/tag/pycon/', '/api/v1/tag/event/', '/api/v1/tag/python/'],\n",
        "   'time_created': '2014-03-13T15:30:37.035000',\n",
        "   'time_modified': '2014-03-13T15:30:37.036000',\n",
        "   'time_published': '2014-03-13T15:29:35',\n",
        "   'title': 'Welcome to Mini PyCon Malaysia 2014'},\n",
        "  {'author': {'first_name': 'Seh Hui', 'id': 2, 'last_name': 'Leong'},\n",
        "   'body': \"Here's more news update.\",\n",
        "   'id': 3,\n",
        "   'is_private': False,\n",
        "   'resource_uri': '/api/v1/article/more-updates-from-pycon-malaysia/',\n",
        "   'slug': 'more-updates-from-pycon-malaysia',\n",
        "   'summary': '',\n",
        "   'tags': ['/api/v1/tag/pycon/', '/api/v1/tag/event/', '/api/v1/tag/python/'],\n",
        "   'time_created': '2014-03-14T17:45:06.750227',\n",
        "   'time_modified': '2014-03-14T17:45:06.756185',\n",
        "   'time_published': '2014-03-14T17:44:03',\n",
        "   'title': 'More Updates from PyCon Malaysia'}]}"
       ]
      }
     ],
     "prompt_number": 7
    },
    {
     "cell_type": "code",
     "collapsed": false,
     "input": [
      "# Retrieving one article\n",
      "requests.get('http://localhost:8000/api/v1/article/2/').json()"
     ],
     "language": "python",
     "metadata": {},
     "outputs": [
      {
       "metadata": {},
       "output_type": "pyout",
       "prompt_number": 11,
       "text": [
        "{'author': {'first_name': 'Seh Hui', 'id': 2, 'last_name': 'Leong'},\n",
        " 'body': 'Some body text to act as search material.',\n",
        " 'id': 2,\n",
        " 'is_private': False,\n",
        " 'resource_uri': '/api/v1/article/welcome-mini-pycon-malaysia-2014/',\n",
        " 'slug': 'welcome-mini-pycon-malaysia-2014',\n",
        " 'summary': '',\n",
        " 'tags': ['/api/v1/tag/pycon/', '/api/v1/tag/event/', '/api/v1/tag/python/'],\n",
        " 'time_created': '2014-03-13T15:30:37.035000',\n",
        " 'time_modified': '2014-03-13T15:30:37.036000',\n",
        " 'time_published': '2014-03-13T15:29:35',\n",
        " 'title': 'Welcome to Mini PyCon Malaysia 2014'}"
       ]
      }
     ],
     "prompt_number": 11
    },
    {
     "cell_type": "code",
     "collapsed": false,
     "input": [
      "# Retrieving all users\n",
      "requests.get('http://localhost:8000/api/v1/user/').json()"
     ],
     "language": "python",
     "metadata": {},
     "outputs": [
      {
       "ename": "ValueError",
       "evalue": "No JSON object could be decoded",
       "output_type": "pyerr",
       "traceback": [
        "\u001b[0;31m---------------------------------------------------------------------------\u001b[0m\n\u001b[0;31mValueError\u001b[0m                                Traceback (most recent call last)",
        "\u001b[0;32m<ipython-input-15-c7b36b99d68a>\u001b[0m in \u001b[0;36m<module>\u001b[0;34m()\u001b[0m\n\u001b[1;32m      1\u001b[0m \u001b[0;31m# Retrieving all users\u001b[0m\u001b[0;34m\u001b[0m\u001b[0;34m\u001b[0m\u001b[0m\n\u001b[0;32m----> 2\u001b[0;31m \u001b[0mrequests\u001b[0m\u001b[0;34m.\u001b[0m\u001b[0mget\u001b[0m\u001b[0;34m(\u001b[0m\u001b[0;34m'http://localhost:8000/api/v1/user/'\u001b[0m\u001b[0;34m)\u001b[0m\u001b[0;34m.\u001b[0m\u001b[0mjson\u001b[0m\u001b[0;34m(\u001b[0m\u001b[0;34m)\u001b[0m\u001b[0;34m\u001b[0m\u001b[0m\n\u001b[0m",
        "\u001b[0;32m/Users/felix/.virtualenvs/pyconmy/lib/python3.3/site-packages/requests/models.py\u001b[0m in \u001b[0;36mjson\u001b[0;34m(self, **kwargs)\u001b[0m\n\u001b[1;32m    739\u001b[0m             \u001b[0;32mif\u001b[0m \u001b[0mencoding\u001b[0m \u001b[0;32mis\u001b[0m \u001b[0;32mnot\u001b[0m \u001b[0;32mNone\u001b[0m\u001b[0;34m:\u001b[0m\u001b[0;34m\u001b[0m\u001b[0m\n\u001b[1;32m    740\u001b[0m                 \u001b[0;32mreturn\u001b[0m \u001b[0mjson\u001b[0m\u001b[0;34m.\u001b[0m\u001b[0mloads\u001b[0m\u001b[0;34m(\u001b[0m\u001b[0mself\u001b[0m\u001b[0;34m.\u001b[0m\u001b[0mcontent\u001b[0m\u001b[0;34m.\u001b[0m\u001b[0mdecode\u001b[0m\u001b[0;34m(\u001b[0m\u001b[0mencoding\u001b[0m\u001b[0;34m)\u001b[0m\u001b[0;34m,\u001b[0m \u001b[0;34m**\u001b[0m\u001b[0mkwargs\u001b[0m\u001b[0;34m)\u001b[0m\u001b[0;34m\u001b[0m\u001b[0m\n\u001b[0;32m--> 741\u001b[0;31m         \u001b[0;32mreturn\u001b[0m \u001b[0mjson\u001b[0m\u001b[0;34m.\u001b[0m\u001b[0mloads\u001b[0m\u001b[0;34m(\u001b[0m\u001b[0mself\u001b[0m\u001b[0;34m.\u001b[0m\u001b[0mtext\u001b[0m\u001b[0;34m,\u001b[0m \u001b[0;34m**\u001b[0m\u001b[0mkwargs\u001b[0m\u001b[0;34m)\u001b[0m\u001b[0;34m\u001b[0m\u001b[0m\n\u001b[0m\u001b[1;32m    742\u001b[0m \u001b[0;34m\u001b[0m\u001b[0m\n\u001b[1;32m    743\u001b[0m     \u001b[0;34m@\u001b[0m\u001b[0mproperty\u001b[0m\u001b[0;34m\u001b[0m\u001b[0m\n",
        "\u001b[0;32m/usr/local/Cellar/python3/3.3.4/Frameworks/Python.framework/Versions/3.3/lib/python3.3/json/__init__.py\u001b[0m in \u001b[0;36mloads\u001b[0;34m(s, encoding, cls, object_hook, parse_float, parse_int, parse_constant, object_pairs_hook, **kw)\u001b[0m\n\u001b[1;32m    314\u001b[0m             \u001b[0mparse_int\u001b[0m \u001b[0;32mis\u001b[0m \u001b[0;32mNone\u001b[0m \u001b[0;32mand\u001b[0m \u001b[0mparse_float\u001b[0m \u001b[0;32mis\u001b[0m \u001b[0;32mNone\u001b[0m \u001b[0;32mand\u001b[0m\u001b[0;34m\u001b[0m\u001b[0m\n\u001b[1;32m    315\u001b[0m             parse_constant is None and object_pairs_hook is None and not kw):\n\u001b[0;32m--> 316\u001b[0;31m         \u001b[0;32mreturn\u001b[0m \u001b[0m_default_decoder\u001b[0m\u001b[0;34m.\u001b[0m\u001b[0mdecode\u001b[0m\u001b[0;34m(\u001b[0m\u001b[0ms\u001b[0m\u001b[0;34m)\u001b[0m\u001b[0;34m\u001b[0m\u001b[0m\n\u001b[0m\u001b[1;32m    317\u001b[0m     \u001b[0;32mif\u001b[0m \u001b[0mcls\u001b[0m \u001b[0;32mis\u001b[0m \u001b[0;32mNone\u001b[0m\u001b[0;34m:\u001b[0m\u001b[0;34m\u001b[0m\u001b[0m\n\u001b[1;32m    318\u001b[0m         \u001b[0mcls\u001b[0m \u001b[0;34m=\u001b[0m \u001b[0mJSONDecoder\u001b[0m\u001b[0;34m\u001b[0m\u001b[0m\n",
        "\u001b[0;32m/usr/local/Cellar/python3/3.3.4/Frameworks/Python.framework/Versions/3.3/lib/python3.3/json/decoder.py\u001b[0m in \u001b[0;36mdecode\u001b[0;34m(self, s, _w)\u001b[0m\n\u001b[1;32m    349\u001b[0m \u001b[0;34m\u001b[0m\u001b[0m\n\u001b[1;32m    350\u001b[0m         \"\"\"\n\u001b[0;32m--> 351\u001b[0;31m         \u001b[0mobj\u001b[0m\u001b[0;34m,\u001b[0m \u001b[0mend\u001b[0m \u001b[0;34m=\u001b[0m \u001b[0mself\u001b[0m\u001b[0;34m.\u001b[0m\u001b[0mraw_decode\u001b[0m\u001b[0;34m(\u001b[0m\u001b[0ms\u001b[0m\u001b[0;34m,\u001b[0m \u001b[0midx\u001b[0m\u001b[0;34m=\u001b[0m\u001b[0m_w\u001b[0m\u001b[0;34m(\u001b[0m\u001b[0ms\u001b[0m\u001b[0;34m,\u001b[0m \u001b[0;36m0\u001b[0m\u001b[0;34m)\u001b[0m\u001b[0;34m.\u001b[0m\u001b[0mend\u001b[0m\u001b[0;34m(\u001b[0m\u001b[0;34m)\u001b[0m\u001b[0;34m)\u001b[0m\u001b[0;34m\u001b[0m\u001b[0m\n\u001b[0m\u001b[1;32m    352\u001b[0m         \u001b[0mend\u001b[0m \u001b[0;34m=\u001b[0m \u001b[0m_w\u001b[0m\u001b[0;34m(\u001b[0m\u001b[0ms\u001b[0m\u001b[0;34m,\u001b[0m \u001b[0mend\u001b[0m\u001b[0;34m)\u001b[0m\u001b[0;34m.\u001b[0m\u001b[0mend\u001b[0m\u001b[0;34m(\u001b[0m\u001b[0;34m)\u001b[0m\u001b[0;34m\u001b[0m\u001b[0m\n\u001b[1;32m    353\u001b[0m         \u001b[0;32mif\u001b[0m \u001b[0mend\u001b[0m \u001b[0;34m!=\u001b[0m \u001b[0mlen\u001b[0m\u001b[0;34m(\u001b[0m\u001b[0ms\u001b[0m\u001b[0;34m)\u001b[0m\u001b[0;34m:\u001b[0m\u001b[0;34m\u001b[0m\u001b[0m\n",
        "\u001b[0;32m/usr/local/Cellar/python3/3.3.4/Frameworks/Python.framework/Versions/3.3/lib/python3.3/json/decoder.py\u001b[0m in \u001b[0;36mraw_decode\u001b[0;34m(self, s, idx)\u001b[0m\n\u001b[1;32m    367\u001b[0m             \u001b[0mobj\u001b[0m\u001b[0;34m,\u001b[0m \u001b[0mend\u001b[0m \u001b[0;34m=\u001b[0m \u001b[0mself\u001b[0m\u001b[0;34m.\u001b[0m\u001b[0mscan_once\u001b[0m\u001b[0;34m(\u001b[0m\u001b[0ms\u001b[0m\u001b[0;34m,\u001b[0m \u001b[0midx\u001b[0m\u001b[0;34m)\u001b[0m\u001b[0;34m\u001b[0m\u001b[0m\n\u001b[1;32m    368\u001b[0m         \u001b[0;32mexcept\u001b[0m \u001b[0mStopIteration\u001b[0m\u001b[0;34m:\u001b[0m\u001b[0;34m\u001b[0m\u001b[0m\n\u001b[0;32m--> 369\u001b[0;31m             \u001b[0;32mraise\u001b[0m \u001b[0mValueError\u001b[0m\u001b[0;34m(\u001b[0m\u001b[0;34m\"No JSON object could be decoded\"\u001b[0m\u001b[0;34m)\u001b[0m\u001b[0;34m\u001b[0m\u001b[0m\n\u001b[0m\u001b[1;32m    370\u001b[0m         \u001b[0;32mreturn\u001b[0m \u001b[0mobj\u001b[0m\u001b[0;34m,\u001b[0m \u001b[0mend\u001b[0m\u001b[0;34m\u001b[0m\u001b[0m\n",
        "\u001b[0;31mValueError\u001b[0m: No JSON object could be decoded"
       ]
      }
     ],
     "prompt_number": 15
    },
    {
     "cell_type": "code",
     "collapsed": false,
     "input": [
      "# Retrieving tags\n",
      "requests.get('http://localhost:8000/api/v1/tag/').json()"
     ],
     "language": "python",
     "metadata": {},
     "outputs": []
    },
    {
     "cell_type": "code",
     "collapsed": false,
     "input": [
      "# CRUD Demo, Creating\n",
      "resp = requests.post(\n",
      "    'http://localhost:8000/api/v1/article/',\n",
      "    data=json.dumps({\n",
      "        'title': 'Sample Post from CRUD',\n",
      "        'body': 'Some basic input',\n",
      "        'tags': ['testing', 'tags'],\n",
      "        'author': '/api/v1/user/3/',\n",
      "        'is_private': False }),\n",
      "    headers={'Content-Type': 'application/json'},\n",
      "    auth=ApiKeyAuth('admin', '30189732cb13368d701196c51f103a0e72ec2df6'))\n",
      "print(resp.status_code)\n",
      "print(resp.headers)"
     ],
     "language": "python",
     "metadata": {},
     "outputs": [
      {
       "output_type": "stream",
       "stream": "stdout",
       "text": [
        "201\n",
        "CaseInsensitiveDict({'vary': 'Accept', 'location': 'http://localhost:8000/api/v1/article/sample-post-from-crud-2/', 'server': 'Werkzeug/0.9.4 Python/3.3.4', 'date': 'Sat, 15 Mar 2014 01:44:49 GMT', 'content-type': 'text/html; charset=utf-8', 'x-frame-options': 'SAMEORIGIN', 'connection': 'close'})\n"
       ]
      }
     ],
     "prompt_number": 32
    },
    {
     "cell_type": "code",
     "collapsed": false,
     "input": [
      "# CRUD Demo, Update\n",
      "resp = requests.put(\n",
      "    'http://localhost:8000/api/v1/article/4/',\n",
      "    data=json.dumps({'is_private': True }),\n",
      "    headers={'Content-Type': 'application/json'},\n",
      "    auth=ApiKeyAuth('admin', '30189732cb13368d701196c51f103a0e72ec2df6'))\n",
      "print(resp.status_code)\n",
      "print(resp.headers)"
     ],
     "language": "python",
     "metadata": {},
     "outputs": [
      {
       "output_type": "stream",
       "stream": "stdout",
       "text": [
        "204\n",
        "CaseInsensitiveDict({'vary': 'Accept', 'server': 'Werkzeug/0.9.4 Python/3.3.4', 'date': 'Sat, 15 Mar 2014 01:46:02 GMT', 'content-type': 'text/html; charset=utf-8', 'x-frame-options': 'SAMEORIGIN', 'content-length': '0'})\n"
       ]
      }
     ],
     "prompt_number": 36
    },
    {
     "cell_type": "code",
     "collapsed": false,
     "input": [
      "# CRUD Demo, Delete\n",
      "resp = requests.delete(\n",
      "    'http://localhost:8000/api/v1/article/4/',\n",
      "    auth=ApiKeyAuth('admin', '30189732cb13368d701196c51f103a0e72ec2df6'))\n",
      "print(resp.status_code)\n",
      "print(resp.headers)"
     ],
     "language": "python",
     "metadata": {},
     "outputs": [
      {
       "output_type": "stream",
       "stream": "stdout",
       "text": [
        "204\n",
        "CaseInsensitiveDict({'vary': 'Accept', 'server': 'Werkzeug/0.9.4 Python/3.3.4', 'date': 'Sat, 15 Mar 2014 01:46:39 GMT', 'content-type': 'text/html; charset=utf-8', 'x-frame-options': 'SAMEORIGIN', 'content-length': '0'})\n"
       ]
      }
     ],
     "prompt_number": 37
    },
    {
     "cell_type": "markdown",
     "metadata": {},
     "source": [
      "# Real World Tastypie Examples"
     ]
    },
    {
     "cell_type": "code",
     "collapsed": false,
     "input": [
      "# Retrieving users (but only lists your own)\n",
      "requests.get(\n",
      "    'http://localhost:8000/api/v1/user/me/',\n",
      "    auth=ApiKeyAuth('admin', '30189732cb13368d701196c51f103a0e72ec2df6')).json()"
     ],
     "language": "python",
     "metadata": {},
     "outputs": [
      {
       "metadata": {},
       "output_type": "pyout",
       "prompt_number": 16,
       "text": [
        "{'date_joined': '2014-03-08T04:01:55',\n",
        " 'email': 'felixleong@gmail.com',\n",
        " 'first_name': 'Super',\n",
        " 'id': 1,\n",
        " 'is_active': True,\n",
        " 'last_name': 'Admin',\n",
        " 'resource_uri': '/api/v1/user/1/',\n",
        " 'username': 'admin'}"
       ]
      }
     ],
     "prompt_number": 16
    },
    {
     "cell_type": "code",
     "collapsed": false,
     "input": [
      "# CRUD w/ Authentication and Authorization\n",
      "print('## BEFORE')\n",
      "print(requests.get(\n",
      "    'http://localhost:8000/api/v1/user/1/',\n",
      "    auth=ApiKeyAuth('admin', '30189732cb13368d701196c51f103a0e72ec2df6')).json())\n",
      "\n",
      "print('## UPDATING -- Expecting 204')\n",
      "resp = requests.put(\n",
      "    'http://localhost:8000/api/v1/user/1/',\n",
      "    data=json.dumps({'first_name': 'Super', 'last_name': 'Admin'}),\n",
      "    headers={'Content-Type': 'application/json'},\n",
      "    auth=ApiKeyAuth('admin', '30189732cb13368d701196c51f103a0e72ec2df6'))\n",
      "print(resp.status_code)\n",
      "\n",
      "print('## AFTER')\n",
      "print(requests.get(\n",
      "    'http://localhost:8000/api/v1/user/1/',\n",
      "    auth=ApiKeyAuth('admin', '30189732cb13368d701196c51f103a0e72ec2df6')).json())"
     ],
     "language": "python",
     "metadata": {},
     "outputs": []
    },
    {
     "cell_type": "code",
     "collapsed": false,
     "input": [
      "# Filtering queries\n",
      "requests.get(\n",
      "    'http://localhost:8000/api/v1/article/',\n",
      "    params={'tag__name': 'pycon'}).json()"
     ],
     "language": "python",
     "metadata": {},
     "outputs": []
    },
    {
     "cell_type": "code",
     "collapsed": false,
     "input": [],
     "language": "python",
     "metadata": {},
     "outputs": []
    }
   ],
   "metadata": {}
  }
 ]
}