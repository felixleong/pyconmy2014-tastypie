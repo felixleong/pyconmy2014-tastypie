{
 "metadata": {
  "name": ""
 },
 "nbformat": 3,
 "nbformat_minor": 0,
 "worksheets": [
  {
   "cells": [
    {
     "cell_type": "markdown",
     "metadata": {},
     "source": [
      "# Setting Up The Environment\n",
      "\n",
      "Before we start, we need to import our `requests` library first. Also we need to make sure that our Django server is run from the background"
     ]
    },
    {
     "cell_type": "code",
     "collapsed": false,
     "input": [
      "import requests\n",
      "import json\n",
      "from pynb_support.api import ApiKeyAuth"
     ],
     "language": "python",
     "metadata": {},
     "outputs": []
    },
    {
     "cell_type": "code",
     "collapsed": false,
     "input": [
      "# Retrieving the schema, making sure that our API server is up and running\n",
      "requests.get('http://localhost:8000/api/v1/').json()"
     ],
     "language": "python",
     "metadata": {},
     "outputs": []
    },
    {
     "cell_type": "markdown",
     "metadata": {},
     "source": [
      "# Basic Django-Tastypie Demo\n",
      "\n",
      "The following code demonstrates the basic functionality of Django Tastypie"
     ]
    },
    {
     "cell_type": "code",
     "collapsed": false,
     "input": [
      "# Retrieving all articles\n",
      "requests.get('http://localhost:8000/api/v1/article/').json()"
     ],
     "language": "python",
     "metadata": {},
     "outputs": []
    },
    {
     "cell_type": "code",
     "collapsed": false,
     "input": [
      "# Retrieving one article\n",
      "requests.get('http://localhost:8000/api/v1/article/2/').json()"
     ],
     "language": "python",
     "metadata": {},
     "outputs": []
    },
    {
     "cell_type": "code",
     "collapsed": false,
     "input": [
      "# Retrieving all users\n",
      "requests.get('http://localhost:8000/api/v1/user/').json()"
     ],
     "language": "python",
     "metadata": {},
     "outputs": []
    },
    {
     "cell_type": "code",
     "collapsed": false,
     "input": [
      "# Retrieving tags\n",
      "requests.get('http://localhost:8000/api/v1/tag/').json()"
     ],
     "language": "python",
     "metadata": {},
     "outputs": []
    },
    {
     "cell_type": "code",
     "collapsed": false,
     "input": [
      "# CRUD Demo, Creating\n",
      "resp = requests.post(\n",
      "    'http://localhost:8000/api/v1/article/',\n",
      "    data=json.dumps({\n",
      "        'title': 'Sample Post from CRUD',\n",
      "        'body': 'Some basic input',\n",
      "        'tags': ['testing', 'tags'],\n",
      "        'author': '/api/v1/user/3/',\n",
      "        'is_private': False }),\n",
      "    headers={'Content-Type': 'application/json'},\n",
      "    auth=ApiKeyAuth('admin', '30189732cb13368d701196c51f103a0e72ec2df6'))\n",
      "print(resp.status_code)\n",
      "print(resp.headers)"
     ],
     "language": "python",
     "metadata": {},
     "outputs": []
    },
    {
     "cell_type": "code",
     "collapsed": false,
     "input": [
      "# CRUD Demo, Update\n",
      "resp = requests.put(\n",
      "    'http://localhost:8000/api/v1/article/4/',\n",
      "    data=json.dumps({'is_private': True }),\n",
      "    headers={'Content-Type': 'application/json'},\n",
      "    auth=ApiKeyAuth('admin', '30189732cb13368d701196c51f103a0e72ec2df6'))\n",
      "print(resp.status_code)\n",
      "print(resp.headers)"
     ],
     "language": "python",
     "metadata": {},
     "outputs": []
    },
    {
     "cell_type": "code",
     "collapsed": false,
     "input": [
      "# CRUD Demo, Delete\n",
      "resp = requests.delete(\n",
      "    'http://localhost:8000/api/v1/article/4/',\n",
      "    auth=ApiKeyAuth('admin', '30189732cb13368d701196c51f103a0e72ec2df6'))\n",
      "print(resp.status_code)\n",
      "print(resp.headers)"
     ],
     "language": "python",
     "metadata": {},
     "outputs": []
    },
    {
     "cell_type": "markdown",
     "metadata": {},
     "source": [
      "# Real World Tastypie Examples"
     ]
    },
    {
     "cell_type": "code",
     "collapsed": false,
     "input": [
      "# Retrieving users (but only lists your own)\n",
      "requests.get(\n",
      "    'http://localhost:8000/api/v1/user/me/article/',\n",
      "    auth=ApiKeyAuth('sehhui', '59b0f1c289dea405e0bd0faa63bffbb6afcf23be')).json()"
     ],
     "language": "python",
     "metadata": {},
     "outputs": [
      {
       "metadata": {},
       "output_type": "pyout",
       "prompt_number": 26,
       "text": [
        "{'meta': {'limit': 20,\n",
        "  'next': None,\n",
        "  'offset': 0,\n",
        "  'previous': None,\n",
        "  'total_count': 3},\n",
        " 'objects': [{'author': {'first_name': 'Seh Hui',\n",
        "    'id': 2,\n",
        "    'last_name': 'Leong'},\n",
        "   'body': 'Sample project, slides and notes will be up at Github',\n",
        "   'id': 1,\n",
        "   'is_private': True,\n",
        "   'resource_uri': '/api/v1/article/creating-powerful-apis-django-tastypie/',\n",
        "   'slug': 'creating-powerful-apis-django-tastypie',\n",
        "   'summary': '',\n",
        "   'tags': ['development', 'tastypie', 'python', 'api'],\n",
        "   'time_created': '2014-03-13T15:30:10.967000',\n",
        "   'time_modified': '2014-03-13T23:24:57.761000',\n",
        "   'time_published': '2014-03-13T14:29:42',\n",
        "   'title': 'Creating Powerful APIs with Django Tastypie'},\n",
        "  {'author': {'first_name': 'Seh Hui', 'id': 2, 'last_name': 'Leong'},\n",
        "   'body': 'Some body text to act as search material.',\n",
        "   'id': 2,\n",
        "   'is_private': False,\n",
        "   'resource_uri': '/api/v1/article/welcome-mini-pycon-malaysia-2014/',\n",
        "   'slug': 'welcome-mini-pycon-malaysia-2014',\n",
        "   'summary': '',\n",
        "   'tags': ['pycon', 'event', 'python'],\n",
        "   'time_created': '2014-03-13T15:30:37.035000',\n",
        "   'time_modified': '2014-03-13T15:30:37.036000',\n",
        "   'time_published': '2014-03-13T15:29:35',\n",
        "   'title': 'Welcome to Mini PyCon Malaysia 2014'},\n",
        "  {'author': {'first_name': 'Seh Hui', 'id': 2, 'last_name': 'Leong'},\n",
        "   'body': \"Here's more news update.\",\n",
        "   'id': 3,\n",
        "   'is_private': False,\n",
        "   'resource_uri': '/api/v1/article/more-updates-from-pycon-malaysia/',\n",
        "   'slug': 'more-updates-from-pycon-malaysia',\n",
        "   'summary': '',\n",
        "   'tags': ['pycon', 'event', 'python'],\n",
        "   'time_created': '2014-03-14T17:45:06.750227',\n",
        "   'time_modified': '2014-03-14T17:45:06.756185',\n",
        "   'time_published': '2014-03-14T17:44:03',\n",
        "   'title': 'More Updates from PyCon Malaysia'}]}"
       ]
      }
     ],
     "prompt_number": 26
    },
    {
     "cell_type": "code",
     "collapsed": false,
     "input": [
      "# CRUD w/ Authentication and Authorization\n",
      "print('## BEFORE')\n",
      "print(requests.get(\n",
      "    'http://localhost:8000/api/v1/user/1/',\n",
      "    auth=ApiKeyAuth('admin', '30189732cb13368d701196c51f103a0e72ec2df6')).json())\n",
      "\n",
      "print('## UPDATING -- Expecting 204')\n",
      "resp = requests.put(\n",
      "    'http://localhost:8000/api/v1/user/1/',\n",
      "    data=json.dumps({'first_name': 'Super', 'last_name': 'Admin'}),\n",
      "    headers={'Content-Type': 'application/json'},\n",
      "    auth=ApiKeyAuth('admin', '30189732cb13368d701196c51f103a0e72ec2df6'))\n",
      "print(resp.status_code)\n",
      "\n",
      "print('## AFTER')\n",
      "print(requests.get(\n",
      "    'http://localhost:8000/api/v1/user/1/',\n",
      "    auth=ApiKeyAuth('admin', '30189732cb13368d701196c51f103a0e72ec2df6')).json())"
     ],
     "language": "python",
     "metadata": {},
     "outputs": []
    },
    {
     "cell_type": "code",
     "collapsed": false,
     "input": [
      "# Filtering queries\n",
      "requests.get(\n",
      "    'http://localhost:8000/api/v1/article/',\n",
      "    params={'tag__name': 'pycon'}).json()"
     ],
     "language": "python",
     "metadata": {},
     "outputs": []
    },
    {
     "cell_type": "code",
     "collapsed": false,
     "input": [],
     "language": "python",
     "metadata": {},
     "outputs": []
    }
   ],
   "metadata": {}
  }
 ]
}