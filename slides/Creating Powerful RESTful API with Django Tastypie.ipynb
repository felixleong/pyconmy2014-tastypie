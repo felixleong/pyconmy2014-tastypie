{
 "metadata": {
  "name": ""
 },
 "nbformat": 3,
 "nbformat_minor": 0,
 "worksheets": [
  {
   "cells": [
    {
     "cell_type": "markdown",
     "metadata": {},
     "source": [
      "# Setting Up The Environment\n",
      "\n",
      "Before we start, we need to import our `requests` library first. Also we need to make sure that our Django server is run from the background"
     ]
    },
    {
     "cell_type": "code",
     "collapsed": false,
     "input": [
      "import requests\n",
      "import json\n",
      "from pynb_support.api import ApiKeyAuth"
     ],
     "language": "python",
     "metadata": {},
     "outputs": []
    },
    {
     "cell_type": "code",
     "collapsed": false,
     "input": [
      "# Retrieving the schema, making sure that our API server is up and running\n",
      "requests.get('http://localhost:8000/api/v1/').json()"
     ],
     "language": "python",
     "metadata": {},
     "outputs": []
    },
    {
     "cell_type": "markdown",
     "metadata": {},
     "source": [
      "# Basic Django-Tastypie Demo\n",
      "\n",
      "The following code demonstrates the basic functionality of Django Tastypie"
     ]
    },
    {
     "cell_type": "code",
     "collapsed": false,
     "input": [
      "# Retrieving all articles\n",
      "requests.get('http://localhost:8000/api/v1/article/').json()"
     ],
     "language": "python",
     "metadata": {},
     "outputs": []
    },
    {
     "cell_type": "code",
     "collapsed": false,
     "input": [
      "# Retrieving one article\n",
      "requests.get('http://localhost:8000/api/v1/article/2/').json()"
     ],
     "language": "python",
     "metadata": {},
     "outputs": []
    },
    {
     "cell_type": "code",
     "collapsed": false,
     "input": [
      "# Retrieving all users\n",
      "requests.get('http://localhost:8000/api/v1/user/').json()"
     ],
     "language": "python",
     "metadata": {},
     "outputs": []
    },
    {
     "cell_type": "code",
     "collapsed": false,
     "input": [
      "# Retrieving tags\n",
      "requests.get('http://localhost:8000/api/v1/tag/').json()"
     ],
     "language": "python",
     "metadata": {},
     "outputs": []
    },
    {
     "cell_type": "code",
     "collapsed": false,
     "input": [
      "# CRUD Demo, Creating\n",
      "resp = requests.post(\n",
      "    'http://localhost:8000/api/v1/article/',\n",
      "    data=json.dumps({\n",
      "        'title': 'Sample Post from CRUD',\n",
      "        'body': 'Some basic input',\n",
      "        'tags': ['testing', 'tags'],\n",
      "        'author': '/api/v1/user/3/',\n",
      "        'is_private': False }),\n",
      "    headers={'Content-Type': 'application/json'},\n",
      "    auth=ApiKeyAuth('admin', '30189732cb13368d701196c51f103a0e72ec2df6'))\n",
      "print(resp.status_code)\n",
      "print(resp.headers)"
     ],
     "language": "python",
     "metadata": {},
     "outputs": []
    },
    {
     "cell_type": "code",
     "collapsed": false,
     "input": [
      "# CRUD Demo, Update\n",
      "resp = requests.put(\n",
      "    'http://localhost:8000/api/v1/article/4/',\n",
      "    data=json.dumps({'is_private': True }),\n",
      "    headers={'Content-Type': 'application/json'},\n",
      "    auth=ApiKeyAuth('admin', '30189732cb13368d701196c51f103a0e72ec2df6'))\n",
      "print(resp.status_code)\n",
      "print(resp.headers)"
     ],
     "language": "python",
     "metadata": {},
     "outputs": []
    },
    {
     "cell_type": "code",
     "collapsed": false,
     "input": [
      "# CRUD Demo, Delete\n",
      "resp = requests.delete(\n",
      "    'http://localhost:8000/api/v1/article/4/',\n",
      "    auth=ApiKeyAuth('admin', '30189732cb13368d701196c51f103a0e72ec2df6'))\n",
      "print(resp.status_code)\n",
      "print(resp.headers)"
     ],
     "language": "python",
     "metadata": {},
     "outputs": []
    },
    {
     "cell_type": "markdown",
     "metadata": {},
     "source": [
      "# Real World Tastypie Examples"
     ]
    },
    {
     "cell_type": "code",
     "collapsed": false,
     "input": [
      "# Retrieving users (but only lists your own)\n",
      "requests.get(\n",
      "    'http://localhost:8000/api/v1/user/me/',\n",
      "    auth=ApiKeyAuth('admin', '30189732cb13368d701196c51f103a0e72ec2df6')).json()"
     ],
     "language": "python",
     "metadata": {},
     "outputs": []
    },
    {
     "cell_type": "code",
     "collapsed": false,
     "input": [
      "# CRUD w/ Authentication and Authorization\n",
      "print('## BEFORE')\n",
      "print(requests.get(\n",
      "    'http://localhost:8000/api/v1/user/1/',\n",
      "    auth=ApiKeyAuth('admin', '30189732cb13368d701196c51f103a0e72ec2df6')).json())\n",
      "\n",
      "print('## UPDATING -- Expecting 204')\n",
      "resp = requests.put(\n",
      "    'http://localhost:8000/api/v1/user/1/',\n",
      "    data=json.dumps({'first_name': 'Super', 'last_name': 'Admin'}),\n",
      "    headers={'Content-Type': 'application/json'},\n",
      "    auth=ApiKeyAuth('admin', '30189732cb13368d701196c51f103a0e72ec2df6'))\n",
      "print(resp.status_code)\n",
      "\n",
      "print('## AFTER')\n",
      "print(requests.get(\n",
      "    'http://localhost:8000/api/v1/user/1/',\n",
      "    auth=ApiKeyAuth('admin', '30189732cb13368d701196c51f103a0e72ec2df6')).json())"
     ],
     "language": "python",
     "metadata": {},
     "outputs": []
    },
    {
     "cell_type": "code",
     "collapsed": false,
     "input": [
      "# Filtering queries\n",
      "requests.get(\n",
      "    'http://localhost:8000/api/v1/article/',\n",
      "    params={'tag__name': 'pycon'}).json()"
     ],
     "language": "python",
     "metadata": {},
     "outputs": []
    },
    {
     "cell_type": "code",
     "collapsed": false,
     "input": [],
     "language": "python",
     "metadata": {},
     "outputs": []
    }
   ],
   "metadata": {}
  }
 ]
}