{
 "metadata": {
  "name": ""
 },
 "nbformat": 3,
 "nbformat_minor": 0,
 "worksheets": [
  {
   "cells": [
    {
     "cell_type": "markdown",
     "metadata": {},
     "source": [
      "# Setting Up The Environment\n",
      "\n",
      "Before we start, we need to import our `requests` library first. Also we need to make sure that our Django server is run from the background"
     ]
    },
    {
     "cell_type": "code",
     "collapsed": false,
     "input": [
      "import requests\n",
      "from pynb_support.api import ApiKeyAuth"
     ],
     "language": "python",
     "metadata": {},
     "outputs": [],
     "prompt_number": 13
    },
    {
     "cell_type": "code",
     "collapsed": false,
     "input": [
      "# Retrieving the schema, making sure that our API server is up and running\n",
      "requests.get('http://localhost:8000/api/v1/').json()"
     ],
     "language": "python",
     "metadata": {},
     "outputs": [
      {
       "metadata": {},
       "output_type": "pyout",
       "prompt_number": 5,
       "text": [
        "{'article': {'list_endpoint': '/api/v1/article/',\n",
        "  'schema': '/api/v1/article/schema/'},\n",
        " 'tag': {'list_endpoint': '/api/v1/tag/', 'schema': '/api/v1/tag/schema/'},\n",
        " 'user': {'list_endpoint': '/api/v1/user/', 'schema': '/api/v1/user/schema/'}}"
       ]
      }
     ],
     "prompt_number": 5
    },
    {
     "cell_type": "markdown",
     "metadata": {},
     "source": [
      "# Basic Django-Tastypie Demo\n",
      "\n",
      "The following code demonstrates the basic functionality of Django Tastypie"
     ]
    },
    {
     "cell_type": "code",
     "collapsed": false,
     "input": [
      "# Retrieving all articles\n",
      "requests.get('http://localhost:8000/api/v1/article/').json()"
     ],
     "language": "python",
     "metadata": {},
     "outputs": [
      {
       "metadata": {},
       "output_type": "pyout",
       "prompt_number": 48,
       "text": [
        "{'meta': {'limit': 20,\n",
        "  'next': None,\n",
        "  'offset': 0,\n",
        "  'previous': None,\n",
        "  'total_count': 2},\n",
        " 'objects': [{'body': 'A sample blog post that goes into the body',\n",
        "   'id': 1,\n",
        "   'resource_uri': '/api/v1/article/hello-mini-pycon-malaysia-2014/',\n",
        "   'slug': 'hello-mini-pycon-malaysia-2014',\n",
        "   'summary': '',\n",
        "   'tags': ['malaysia', 'pycon'],\n",
        "   'time_created': '2014-03-11T21:40:40.731149',\n",
        "   'time_modified': '2014-03-11T21:40:40.736383',\n",
        "   'time_published': '2014-03-11T21:31:14',\n",
        "   'title': 'Hello Mini-PyCon Malaysia 2014',\n",
        "   'user': {'resource_uri': ''}},\n",
        "  {'body': 'Slides and sample project will be posted to Github soon',\n",
        "   'id': 2,\n",
        "   'resource_uri': '/api/v1/article/creating-powerful-restful-api-using-django-tastypi/',\n",
        "   'slug': 'creating-powerful-restful-api-using-django-tastypi',\n",
        "   'summary': '',\n",
        "   'tags': ['malaysia', 'pycon', 'restful-api', 'tastypie'],\n",
        "   'time_created': '2014-03-11T21:42:04.095038',\n",
        "   'time_modified': '2014-03-11T21:42:04.099232',\n",
        "   'time_published': '2014-03-11T21:40:59',\n",
        "   'title': 'Creating Powerful RESTful API using Django Tastypie',\n",
        "   'user': {'resource_uri': ''}}]}"
       ]
      }
     ],
     "prompt_number": 48
    },
    {
     "cell_type": "code",
     "collapsed": false,
     "input": [
      "requests.get('http://localhost:8000/api/v1/article/1/').json()"
     ],
     "language": "python",
     "metadata": {},
     "outputs": [
      {
       "metadata": {},
       "output_type": "pyout",
       "prompt_number": 51,
       "text": [
        "{'author': {'resource_uri': ''},\n",
        " 'body': 'A sample blog post that goes into the body',\n",
        " 'id': 1,\n",
        " 'resource_uri': '/api/v1/article/hello-mini-pycon-malaysia-2014/',\n",
        " 'slug': 'hello-mini-pycon-malaysia-2014',\n",
        " 'summary': '',\n",
        " 'tags': ['malaysia', 'pycon'],\n",
        " 'time_created': '2014-03-11T21:40:40.731149',\n",
        " 'time_modified': '2014-03-11T21:40:40.736383',\n",
        " 'time_published': '2014-03-11T21:31:14',\n",
        " 'title': 'Hello Mini-PyCon Malaysia 2014'}"
       ]
      }
     ],
     "prompt_number": 51
    },
    {
     "cell_type": "code",
     "collapsed": false,
     "input": [
      "requests.get('http://localhost:8000/api/v1/article/hello-mini-pycon-malaysia-2014/').json()"
     ],
     "language": "python",
     "metadata": {},
     "outputs": [
      {
       "metadata": {},
       "output_type": "pyout",
       "prompt_number": 68,
       "text": [
        "{'author': {'first_name': '', 'id': 1, 'last_name': ''},\n",
        " 'body': 'A sample blog post that goes into the body',\n",
        " 'id': 1,\n",
        " 'resource_uri': '/api/v1/article/hello-mini-pycon-malaysia-2014/',\n",
        " 'slug': 'hello-mini-pycon-malaysia-2014',\n",
        " 'summary': '',\n",
        " 'tags': ['malaysia', 'pycon'],\n",
        " 'time_created': '2014-03-11T21:40:40.731149',\n",
        " 'time_modified': '2014-03-11T21:40:40.736383',\n",
        " 'time_published': '2014-03-11T21:31:14',\n",
        " 'title': 'Hello Mini-PyCon Malaysia 2014'}"
       ]
      }
     ],
     "prompt_number": 68
    },
    {
     "cell_type": "code",
     "collapsed": false,
     "input": [
      "# Retrieving tags\n",
      "requests.get('http://localhost:8000/api/v1/tag/').json()"
     ],
     "language": "python",
     "metadata": {},
     "outputs": [
      {
       "metadata": {},
       "output_type": "pyout",
       "prompt_number": 41,
       "text": [
        "{'meta': {'limit': 20,\n",
        "  'next': None,\n",
        "  'offset': 0,\n",
        "  'previous': None,\n",
        "  'total_count': 4},\n",
        " 'objects': [{'id': 1,\n",
        "   'name': 'malaysia',\n",
        "   'resource_uri': '/api/v1/tag/malaysia/',\n",
        "   'slug': 'malaysia'},\n",
        "  {'id': 2,\n",
        "   'name': 'pycon',\n",
        "   'resource_uri': '/api/v1/tag/pycon/',\n",
        "   'slug': 'pycon'},\n",
        "  {'id': 3,\n",
        "   'name': 'restful api',\n",
        "   'resource_uri': '/api/v1/tag/restful-api/',\n",
        "   'slug': 'restful-api'},\n",
        "  {'id': 4,\n",
        "   'name': 'tastypie',\n",
        "   'resource_uri': '/api/v1/tag/tastypie/',\n",
        "   'slug': 'tastypie'}]}"
       ]
      }
     ],
     "prompt_number": 41
    },
    {
     "cell_type": "code",
     "collapsed": false,
     "input": [
      "# Retrieving users (but only lists your own)\n",
      "requests.get(\n",
      "    'http://localhost:8000/api/v1/user/',\n",
      "    auth=ApiKeyAuth('felix', '30189732cb13368d701196c51f103a0e72ec2df6')).json()"
     ],
     "language": "python",
     "metadata": {},
     "outputs": [
      {
       "metadata": {},
       "output_type": "pyout",
       "prompt_number": 73,
       "text": [
        "{'meta': {'limit': 20,\n",
        "  'next': None,\n",
        "  'offset': 0,\n",
        "  'previous': None,\n",
        "  'total_count': 1},\n",
        " 'objects': [{'date_joined': '2014-03-08T04:01:55.395834',\n",
        "   'email': 'felixleong@gmail.com',\n",
        "   'first_name': '',\n",
        "   'id': 1,\n",
        "   'is_active': True,\n",
        "   'last_name': '',\n",
        "   'resource_uri': '/api/v1/user/1/',\n",
        "   'username': 'felix'}]}"
       ]
      }
     ],
     "prompt_number": 73
    },
    {
     "cell_type": "code",
     "collapsed": false,
     "input": [],
     "language": "python",
     "metadata": {},
     "outputs": []
    }
   ],
   "metadata": {}
  }
 ]
}