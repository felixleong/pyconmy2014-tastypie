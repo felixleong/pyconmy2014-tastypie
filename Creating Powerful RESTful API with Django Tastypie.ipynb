{
 "metadata": {
  "name": ""
 },
 "nbformat": 3,
 "nbformat_minor": 0,
 "worksheets": [
  {
   "cells": [
    {
     "cell_type": "markdown",
     "metadata": {},
     "source": [
      "# Setting Up The Environment\n",
      "\n",
      "Before we start, we need to import our `requests` library first. Also we need to make sure that our Django server is run from the background"
     ]
    },
    {
     "cell_type": "code",
     "collapsed": false,
     "input": [
      "import requests\n",
      "\n",
      "API_KEY = 'Apikey felix:30189732cb13368d701196c51f103a0e72ec2df6'"
     ],
     "language": "python",
     "metadata": {},
     "outputs": [],
     "prompt_number": 1
    },
    {
     "cell_type": "code",
     "collapsed": false,
     "input": [
      "# Retrieving the schema, making sure that our API server is up and running\n",
      "requests.get('http://localhost:8000/api/v1/').json()"
     ],
     "language": "python",
     "metadata": {},
     "outputs": [
      {
       "metadata": {},
       "output_type": "pyout",
       "prompt_number": 5,
       "text": [
        "{'article': {'list_endpoint': '/api/v1/article/',\n",
        "  'schema': '/api/v1/article/schema/'},\n",
        " 'tag': {'list_endpoint': '/api/v1/tag/', 'schema': '/api/v1/tag/schema/'},\n",
        " 'user': {'list_endpoint': '/api/v1/user/', 'schema': '/api/v1/user/schema/'}}"
       ]
      }
     ],
     "prompt_number": 5
    },
    {
     "cell_type": "markdown",
     "metadata": {},
     "source": [
      "# Basic Django-Tastypie Demo\n",
      "\n",
      "The following code demonstrates the basic functionality of Django Tastypie"
     ]
    },
    {
     "cell_type": "code",
     "collapsed": false,
     "input": [
      "# Retrieving all articles\n",
      "\n",
      "requests.get('http://localhost:8000/api/v1/article/').json()"
     ],
     "language": "python",
     "metadata": {},
     "outputs": [
      {
       "metadata": {},
       "output_type": "pyout",
       "prompt_number": 6,
       "text": [
        "{'meta': {'limit': 20,\n",
        "  'next': None,\n",
        "  'offset': 0,\n",
        "  'previous': None,\n",
        "  'total_count': 2},\n",
        " 'objects': [{'body': 'A sample blog post that goes into the body',\n",
        "   'id': 1,\n",
        "   'resource_uri': '/api/v1/article/1/',\n",
        "   'slug': 'hello-mini-pycon-malaysia-2014',\n",
        "   'summary': '',\n",
        "   'time_created': '2014-03-11T21:40:40.731149',\n",
        "   'time_modified': '2014-03-11T21:40:40.736383',\n",
        "   'time_published': '2014-03-11T21:31:14',\n",
        "   'title': 'Hello Mini-PyCon Malaysia 2014'},\n",
        "  {'body': 'Slides and sample project will be posted to Github soon',\n",
        "   'id': 2,\n",
        "   'resource_uri': '/api/v1/article/2/',\n",
        "   'slug': 'creating-powerful-restful-api-using-django-tastypi',\n",
        "   'summary': '',\n",
        "   'time_created': '2014-03-11T21:42:04.095038',\n",
        "   'time_modified': '2014-03-11T21:42:04.099232',\n",
        "   'time_published': '2014-03-11T21:40:59',\n",
        "   'title': 'Creating Powerful RESTful API using Django Tastypie'}]}"
       ]
      }
     ],
     "prompt_number": 6
    },
    {
     "cell_type": "code",
     "collapsed": false,
     "input": [],
     "language": "python",
     "metadata": {},
     "outputs": []
    }
   ],
   "metadata": {}
  }
 ]
}