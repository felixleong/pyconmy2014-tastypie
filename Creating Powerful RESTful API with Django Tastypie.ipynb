{
 "metadata": {
  "name": ""
 },
 "nbformat": 3,
 "nbformat_minor": 0,
 "worksheets": [
  {
   "cells": [
    {
     "cell_type": "markdown",
     "metadata": {},
     "source": [
      "# Setting Up The Environment\n",
      "\n",
      "Before we start, we need to import our `requests` library first. Also we need to make sure that our Django server is run from the background"
     ]
    },
    {
     "cell_type": "code",
     "collapsed": false,
     "input": [
      "import requests\n",
      "import json\n",
      "from pynb_support.api import ApiKeyAuth"
     ],
     "language": "python",
     "metadata": {},
     "outputs": []
    },
    {
     "cell_type": "code",
     "collapsed": false,
     "input": [
      "# Retrieving the schema, making sure that our API server is up and running\n",
      "requests.get('http://localhost:8000/api/v1/').json()"
     ],
     "language": "python",
     "metadata": {},
     "outputs": []
    },
    {
     "cell_type": "markdown",
     "metadata": {},
     "source": [
      "# Basic Django-Tastypie Demo\n",
      "\n",
      "The following code demonstrates the basic functionality of Django Tastypie"
     ]
    },
    {
     "cell_type": "code",
     "collapsed": false,
     "input": [
      "# Retrieving all articles\n",
      "requests.get('http://localhost:8000/api/v1/article/').json()"
     ],
     "language": "python",
     "metadata": {},
     "outputs": []
    },
    {
     "cell_type": "code",
     "collapsed": false,
     "input": [
      "requests.get('http://localhost:8000/api/v1/article/1/').json()"
     ],
     "language": "python",
     "metadata": {},
     "outputs": []
    },
    {
     "cell_type": "code",
     "collapsed": false,
     "input": [
      "requests.get('http://localhost:8000/api/v1/article/hello-mini-pycon-malaysia-2014/').json()"
     ],
     "language": "python",
     "metadata": {},
     "outputs": []
    },
    {
     "cell_type": "code",
     "collapsed": false,
     "input": [
      "# Retrieving tags\n",
      "requests.get('http://localhost:8000/api/v1/tag/').json()"
     ],
     "language": "python",
     "metadata": {},
     "outputs": []
    },
    {
     "cell_type": "code",
     "collapsed": false,
     "input": [
      "# Retrieving users (but only lists your own)\n",
      "requests.get(\n",
      "    'http://localhost:8000/api/v1/user/me/',\n",
      "    auth=ApiKeyAuth('admin', '30189732cb13368d701196c51f103a0e72ec2df6')).json()"
     ],
     "language": "python",
     "metadata": {},
     "outputs": []
    },
    {
     "cell_type": "code",
     "collapsed": false,
     "input": [
      "print('## BEFORE')\n",
      "print(requests.get(\n",
      "    'http://localhost:8000/api/v1/user/1/',\n",
      "    auth=ApiKeyAuth('admin', '30189732cb13368d701196c51f103a0e72ec2df6')).json())\n",
      "\n",
      "print('## UPDATING -- Expecting 204')\n",
      "resp = requests.put(\n",
      "    'http://localhost:8000/api/v1/user/1/',\n",
      "    data=json.dumps({'first_name': 'Super', 'last_name': 'Admin'}),\n",
      "    headers={'Content-Type': 'application/json'},\n",
      "    auth=ApiKeyAuth('admin', '30189732cb13368d701196c51f103a0e72ec2df6'))\n",
      "print(resp.status_code)\n",
      "\n",
      "print('## AFTER')\n",
      "print(requests.get(\n",
      "    'http://localhost:8000/api/v1/user/1/',\n",
      "    auth=ApiKeyAuth('admin', '30189732cb13368d701196c51f103a0e72ec2df6')).json())"
     ],
     "language": "python",
     "metadata": {},
     "outputs": []
    },
    {
     "cell_type": "code",
     "collapsed": false,
     "input": [],
     "language": "python",
     "metadata": {},
     "outputs": []
    }
   ],
   "metadata": {}
  }
 ]
}